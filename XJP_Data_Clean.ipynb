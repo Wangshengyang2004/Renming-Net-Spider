{
 "cells": [
  {
   "cell_type": "code",
   "execution_count": 27,
   "id": "41934c6b-bfc2-4804-b443-7cac5e299cae",
   "metadata": {},
   "outputs": [],
   "source": [
    "import pandas as pd\n",
    "import re\n",
    "\n",
    "# Load the data from the CSV file\n",
    "df = pd.read_csv('data_xjp.csv')\n",
    "\n",
    "# Define the patterns to be removed\n",
    "patterns_to_remove = [\n",
    "    r\"新华社.*?电\", \n",
    "    r\"（记者.*?）\",\n",
    "    r\"本报.*?电  （记者.*?）\",\n",
    "    r'《\\s*人民日报\\s*》（\\s*\\d{4}年\\d{2}月\\d{2}日\\s*\\d{2}\\s*版\\s*）'\n",
    "    r\"（记者.*?、.*?）\",\n",
    "    r\"新华社快讯：\",\n",
    "    r'《.*》（\\s*\\d{4}年\\d{2}月\\d{2}日\\s*\\d{2}\\s*版\\s*）',\n",
    "    r'（）',\n",
    "    r'本报(.+?)(\\d+月\\d+日)电',\n",
    "    r\"\\(.*?\\)\",  # remove all content within parentheses\n",
    "]\n",
    "\n",
    "# Remove rows with empty 'Title' or 'Content'\n",
    "df = df.dropna(subset=['Title', 'Content'])\n",
    "# Remove the specified patterns from the content\n",
    "for pattern in patterns_to_remove:\n",
    "    df['Content'] = df['Content'].apply(lambda x: re.sub(pattern, '', x))\n",
    "# Remove content that is identical to the title\n",
    "df = df[df['Title'] != df['Content']]\n",
    "\n",
    "\n",
    "\n",
    "# Remove rows that contain '新华社快讯' or '人民日报' in 'Content'\n",
    "# df = df[~df['Content'].str.contains('新华社快讯')]\n",
    "# df = df[~df['Content'].str.contains('人民日报')]\n",
    "\n",
    "# Remove rows where 'Content' contains less than 100 Chinese characters\n",
    "df = df[df['Content'].apply(lambda x: len(re.findall(r'[\\u4e00-\\u9fff]', x)) >= 100)]\n",
    "df['Content'] = df['Content'].str.replace(' ', '\\n')\n",
    "# Save the cleaned data back to a CSV file\n",
    "df.to_csv('cleaned_file9.csv', index=False)\n"
   ]
  },
  {
   "cell_type": "code",
   "execution_count": 31,
   "id": "8d8ccc1c-69f2-4435-b6b3-edd556302c6e",
   "metadata": {},
   "outputs": [],
   "source": [
    "import pandas as pd\n",
    "import json\n",
    "\n",
    "# Load the data from the CSV file\n",
    "df = pd.read_csv('cleaned_file9.csv')\n",
    "\n",
    "# Replace all spaces with \"\\n\" in 'Content'\n",
    "df['Content'] = df['Content'].str.replace(' ', '\\n')\n",
    "\n",
    "# Add an 'input' column with empty strings\n",
    "df['input'] = '政治写作'\n",
    "\n",
    "# Reorder the columns\n",
    "df = df[['Title', 'input', 'Content']]\n",
    "\n",
    "# Convert the DataFrame to a list of dictionaries\n",
    "data = df.rename(columns={'Title': 'instruction', 'Content': 'output'}).to_dict('records')\n",
    "\n",
    "# Write the data to a JSON file\n",
    "with open('output.json', 'w', encoding='utf-8') as f:\n",
    "    json.dump(data, f, ensure_ascii=False, indent=2)\n"
   ]
  },
  {
   "cell_type": "code",
   "execution_count": null,
   "id": "41d18a7b-68b4-45af-b584-c5ed45c2daa2",
   "metadata": {},
   "outputs": [],
   "source": []
  }
 ],
 "metadata": {
  "kernelspec": {
   "display_name": "Python 3 (ipykernel)",
   "language": "python",
   "name": "python3"
  },
  "language_info": {
   "codemirror_mode": {
    "name": "ipython",
    "version": 3
   },
   "file_extension": ".py",
   "mimetype": "text/x-python",
   "name": "python",
   "nbconvert_exporter": "python",
   "pygments_lexer": "ipython3",
   "version": "3.10.9"
  }
 },
 "nbformat": 4,
 "nbformat_minor": 5
}
